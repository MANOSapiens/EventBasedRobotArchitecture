{
 "cells": [
  {
   "cell_type": "code",
   "execution_count": 1,
   "metadata": {},
   "outputs": [],
   "source": [
    "import spike_utils"
   ]
  },
  {
   "cell_type": "code",
   "execution_count": 2,
   "metadata": {},
   "outputs": [],
   "source": [
    "ser = spike_utils.init_connection('COM7')"
   ]
  },
  {
   "cell_type": "code",
   "execution_count": 29,
   "metadata": {},
   "outputs": [
    {
     "data": {
      "text/plain": [
       "['Runde2ORANGE.json', 'Runde3.json', 'tableLengths']"
      ]
     },
     "execution_count": 29,
     "metadata": {},
     "output_type": "execute_result"
    }
   ],
   "source": [
    "spike_utils.list_files(ser, '/flash/instructions/')"
   ]
  },
  {
   "cell_type": "code",
   "execution_count": 28,
   "metadata": {},
   "outputs": [
    {
     "name": "stderr",
     "output_type": "stream",
     "text": [
      "100%|██████████| 113k/113k [00:09<00:00, 11.4kB/s] \n"
     ]
    }
   ],
   "source": [
    "spike_utils.upload_file(ser, \"C:/Users/Hannes/Documents/ev3EventArchitectureCompiler/instructions/Runde2ORANGE.json\", \"/flash/instructions\")"
   ]
  },
  {
   "cell_type": "code",
   "execution_count": 25,
   "metadata": {},
   "outputs": [
    {
     "name": "stderr",
     "output_type": "stream",
     "text": [
      "100%|██████████| 11.0/11.0 [00:00<00:00, 145B/s]\n"
     ]
    }
   ],
   "source": [
    "spike_utils.upload_file(ser, \"D:/ev3EventArchitecture/instructions/tableLengths\", \"/flash/instructions\")"
   ]
  },
  {
   "cell_type": "code",
   "execution_count": 14,
   "metadata": {},
   "outputs": [],
   "source": [
    "spike_utils.delete_file(ser, '/flash/instructions/tableLengths')"
   ]
  },
  {
   "cell_type": "code",
   "execution_count": 4,
   "metadata": {},
   "outputs": [],
   "source": [
    "spike_utils.delete_dir(ser, '/flash/instructions/Runde3.json')"
   ]
  },
  {
   "cell_type": "code",
   "execution_count": 19,
   "metadata": {},
   "outputs": [],
   "source": [
    "spike_utils.create_dir(ser, '/flash/instructions')"
   ]
  },
  {
   "cell_type": "code",
   "execution_count": 3,
   "metadata": {},
   "outputs": [
    {
     "ename": "AttributeError",
     "evalue": "'NoneType' object has no attribute 'decode'",
     "output_type": "error",
     "traceback": [
      "\u001b[1;31m---------------------------------------------------------------------------\u001b[0m",
      "\u001b[1;31mAttributeError\u001b[0m                            Traceback (most recent call last)",
      "Cell \u001b[1;32mIn[3], line 1\u001b[0m\n\u001b[1;32m----> 1\u001b[0m \u001b[43mspike_utils\u001b[49m\u001b[38;5;241;43m.\u001b[39;49m\u001b[43mdownload_file\u001b[49m\u001b[43m(\u001b[49m\u001b[43mser\u001b[49m\u001b[43m,\u001b[49m\u001b[43m \u001b[49m\u001b[38;5;124;43m'\u001b[39;49m\u001b[38;5;124;43m/flash/log.txt\u001b[39;49m\u001b[38;5;124;43m'\u001b[39;49m\u001b[43m,\u001b[49m\u001b[43m \u001b[49m\u001b[38;5;124;43m'\u001b[39;49m\u001b[38;5;124;43mlog.txt\u001b[39;49m\u001b[38;5;124;43m'\u001b[39;49m\u001b[43m)\u001b[49m\n",
      "File \u001b[1;32mc:\\Users\\Hannes\\Documents\\EventBasedRobotArchitecture\\spike_utils.py:63\u001b[0m, in \u001b[0;36mdownload_file\u001b[1;34m(ser, file, loc)\u001b[0m\n\u001b[0;32m     61\u001b[0m write_command(ser, \u001b[38;5;124mb\u001b[39m\u001b[38;5;124m\"\u001b[39m\u001b[38;5;124mcontent = f.read()\u001b[39m\u001b[38;5;124m\"\u001b[39m)\n\u001b[0;32m     62\u001b[0m write_command(ser, \u001b[38;5;124mb\u001b[39m\u001b[38;5;124m\"\u001b[39m\u001b[38;5;124mf.close()\u001b[39m\u001b[38;5;124m\"\u001b[39m)\n\u001b[1;32m---> 63\u001b[0m content \u001b[38;5;241m=\u001b[39m \u001b[43mwrite_command\u001b[49m\u001b[43m(\u001b[49m\u001b[43mser\u001b[49m\u001b[43m,\u001b[49m\u001b[43m \u001b[49m\u001b[38;5;124;43mb\u001b[39;49m\u001b[38;5;124;43m\"\u001b[39;49m\u001b[38;5;124;43mubinascii.b2a_base64(content)\u001b[39;49m\u001b[38;5;124;43m\"\u001b[39;49m\u001b[43m)\u001b[49m\n\u001b[0;32m     64\u001b[0m \u001b[38;5;28;01mwith\u001b[39;00m \u001b[38;5;28mopen\u001b[39m(loc, \u001b[38;5;124m\"\u001b[39m\u001b[38;5;124mwb+\u001b[39m\u001b[38;5;124m\"\u001b[39m) \u001b[38;5;28;01mas\u001b[39;00m f:\n\u001b[0;32m     65\u001b[0m     f\u001b[38;5;241m.\u001b[39mwrite(base64\u001b[38;5;241m.\u001b[39mb64decode(content))\n",
      "File \u001b[1;32mc:\\Users\\Hannes\\Documents\\EventBasedRobotArchitecture\\spike_utils.py:35\u001b[0m, in \u001b[0;36mwrite_command\u001b[1;34m(ser, cmd)\u001b[0m\n\u001b[0;32m     32\u001b[0m ser\u001b[38;5;241m.\u001b[39mwrite(cmd \u001b[38;5;241m+\u001b[39m \u001b[38;5;124mb\u001b[39m\u001b[38;5;124m'\u001b[39m\u001b[38;5;130;01m\\r\u001b[39;00m\u001b[38;5;130;01m\\n\u001b[39;00m\u001b[38;5;124m'\u001b[39m)\n\u001b[0;32m     33\u001b[0m response \u001b[38;5;241m=\u001b[39m wait_for_prompt(ser)\n\u001b[1;32m---> 35\u001b[0m r \u001b[38;5;241m=\u001b[39m \u001b[43mresponse\u001b[49m\u001b[38;5;241;43m.\u001b[39;49m\u001b[43mdecode\u001b[49m(\u001b[38;5;124m'\u001b[39m\u001b[38;5;124mutf8\u001b[39m\u001b[38;5;124m'\u001b[39m)\u001b[38;5;241m.\u001b[39msplit(\u001b[38;5;124m'\u001b[39m\u001b[38;5;130;01m\\r\u001b[39;00m\u001b[38;5;130;01m\\n\u001b[39;00m\u001b[38;5;124m'\u001b[39m)[\u001b[38;5;241m1\u001b[39m:\u001b[38;5;241m-\u001b[39m\u001b[38;5;241m1\u001b[39m]\n\u001b[0;32m     36\u001b[0m \u001b[38;5;28;01mif\u001b[39;00m \u001b[38;5;28mlen\u001b[39m(r) \u001b[38;5;241m>\u001b[39m \u001b[38;5;241m0\u001b[39m:\n\u001b[0;32m     37\u001b[0m   \u001b[38;5;28;01mreturn\u001b[39;00m ast\u001b[38;5;241m.\u001b[39mliteral_eval(r[\u001b[38;5;241m-\u001b[39m\u001b[38;5;241m1\u001b[39m])\n",
      "\u001b[1;31mAttributeError\u001b[0m: 'NoneType' object has no attribute 'decode'"
     ]
    }
   ],
   "source": [
    "spike_utils.download_file(ser, '/flash/log.txt', 'log.txt')"
   ]
  },
  {
   "cell_type": "code",
   "execution_count": 4,
   "metadata": {},
   "outputs": [],
   "source": [
    "spike_utils.close_connection(ser)"
   ]
  },
  {
   "cell_type": "code",
   "execution_count": 31,
   "metadata": {},
   "outputs": [],
   "source": [
    "import os\n",
    "from datetime import datetime\n",
    "\n",
    "concat_files = [\n",
    "    'imports.py',\n",
    "    'consts.py',\n",
    "    'Events.py',\n",
    "    'ReadInstructions.py',\n",
    "    'Logger.py',\n",
    "    'Actuators.py',\n",
    "    'Check.py',\n",
    "    'PID.py',\n",
    "    'Port.py',\n",
    "    'ReadSensors.py',\n",
    "    'RunEvents.py',\n",
    "    'SpawnTerminateEvents.py',\n",
    "    'StartExecution.py',\n",
    "    'ProcessLoop.py',\n",
    "    'main.py',\n",
    "]\n",
    "\n"
   ]
  },
  {
   "cell_type": "code",
   "execution_count": 34,
   "metadata": {},
   "outputs": [],
   "source": [
    "result = ''\n",
    "\n",
    "for file in concat_files:\n",
    "    with open(f'spike_prime/{file}', 'r') as f:\n",
    "        file_content = f.read()\n",
    "\n",
    "    # drop first line\n",
    "    file_content = file_content.split('\\n', 1)[1]\n",
    "\n",
    "    file_header = '# ==================== {} ====================\\n'.format(file)\n",
    "    latest_change = '# LAST CHANGE WAS AT: {} \\n\\n'.format(str(datetime.fromtimestamp(os.path.getctime(f'spike_prime/{file}'))))\n",
    "\n",
    "    file_content = file_header + latest_change  + file_content + '\\n\\n'\n",
    "    \n",
    "    result += file_content\n",
    "\n",
    "with open('backend.py', 'w') as f:\n",
    "    f.write(result)"
   ]
  },
  {
   "cell_type": "code",
   "execution_count": null,
   "metadata": {},
   "outputs": [],
   "source": []
  }
 ],
 "metadata": {
  "kernelspec": {
   "display_name": "ev3",
   "language": "python",
   "name": "python3"
  },
  "language_info": {
   "codemirror_mode": {
    "name": "ipython",
    "version": 3
   },
   "file_extension": ".py",
   "mimetype": "text/x-python",
   "name": "python",
   "nbconvert_exporter": "python",
   "pygments_lexer": "ipython3",
   "version": "3.12.3"
  }
 },
 "nbformat": 4,
 "nbformat_minor": 2
}
