{
 "cells": [
  {
   "cell_type": "code",
   "execution_count": 22,
   "metadata": {},
   "outputs": [],
   "source": [
    "import spike_utils"
   ]
  },
  {
   "cell_type": "code",
   "execution_count": 23,
   "metadata": {},
   "outputs": [],
   "source": [
    "ser = spike_utils.init_connection('COM5')"
   ]
  },
  {
   "cell_type": "code",
   "execution_count": 26,
   "metadata": {},
   "outputs": [
    {
     "data": {
      "text/plain": [
       "['Runde3.json', 'tableLengths']"
      ]
     },
     "execution_count": 26,
     "metadata": {},
     "output_type": "execute_result"
    }
   ],
   "source": [
    "spike_utils.list_files(ser, '/flash/instructions/')"
   ]
  },
  {
   "cell_type": "code",
   "execution_count": 5,
   "metadata": {},
   "outputs": [
    {
     "name": "stderr",
     "output_type": "stream",
     "text": [
      "100%|██████████| 11.8k/11.8k [00:04<00:00, 2.63kB/s]\n"
     ]
    }
   ],
   "source": [
    "spike_utils.upload_file(ser, \"D:/ev3EventArchitecture/instructions/Runde3.json\", \"/flash/instructions\")"
   ]
  },
  {
   "cell_type": "code",
   "execution_count": 25,
   "metadata": {},
   "outputs": [
    {
     "name": "stderr",
     "output_type": "stream",
     "text": [
      "100%|██████████| 11.0/11.0 [00:00<00:00, 145B/s]\n"
     ]
    }
   ],
   "source": [
    "spike_utils.upload_file(ser, \"D:/ev3EventArchitecture/instructions/tableLengths\", \"/flash/instructions\")"
   ]
  },
  {
   "cell_type": "code",
   "execution_count": 14,
   "metadata": {},
   "outputs": [],
   "source": [
    "spike_utils.delete_file(ser, '/flash/instructions/tableLengths')"
   ]
  },
  {
   "cell_type": "code",
   "execution_count": 4,
   "metadata": {},
   "outputs": [],
   "source": [
    "spike_utils.delete_dir(ser, '/flash/instructions/Runde3.json')"
   ]
  },
  {
   "cell_type": "code",
   "execution_count": 19,
   "metadata": {},
   "outputs": [],
   "source": [
    "spike_utils.create_dir(ser, '/flash/instructions')"
   ]
  },
  {
   "cell_type": "code",
   "execution_count": 15,
   "metadata": {},
   "outputs": [],
   "source": [
    "spike_utils.download_file(ser, '/flash/log.txt', 'log.txt')"
   ]
  },
  {
   "cell_type": "code",
   "execution_count": 27,
   "metadata": {},
   "outputs": [],
   "source": [
    "spike_utils.close_connection(ser)"
   ]
  },
  {
   "cell_type": "code",
   "execution_count": 28,
   "metadata": {},
   "outputs": [],
   "source": [
    "import os\n",
    "from datetime import datetime\n",
    "\n",
    "concat_files = [\n",
    "    'imports.py',\n",
    "    'consts.py',\n",
    "    'Events.py',\n",
    "    'ReadInstructions.py',\n",
    "    'Logger.py',\n",
    "    'Actuators.py',\n",
    "    'Check.py',\n",
    "    'PID.py',\n",
    "    'Port.py',\n",
    "    'ReadSensors.py',\n",
    "    'RunEvents.py',\n",
    "    'SpawnTerminateEvents.py',\n",
    "    'StartExecution.py',\n",
    "    'ProcessLoop.py',\n",
    "    'main.py',\n",
    "]\n",
    "\n"
   ]
  },
  {
   "cell_type": "code",
   "execution_count": 21,
   "metadata": {},
   "outputs": [],
   "source": [
    "result = ''\n",
    "\n",
    "for file in concat_files:\n",
    "    with open(f'spike-prime/{file}', 'r') as f:\n",
    "        file_content = f.read()\n",
    "\n",
    "    # drop first line\n",
    "    file_content = file_content.split('\\n', 1)[1]\n",
    "\n",
    "    file_header = '# ==================== {} ====================\\n'.format(file)\n",
    "    latest_change = '# LAST CHANGE WAS AT: {} \\n\\n'.format(str(datetime.fromtimestamp(os.path.getctime('spike-prime/Check.py'))))\n",
    "\n",
    "    file_content = file_header + latest_change  + file_content + '\\n\\n'\n",
    "    \n",
    "    result += file_content\n",
    "\n",
    "with open('backend.py', 'w') as f:\n",
    "    f.write(result)"
   ]
  },
  {
   "cell_type": "code",
   "execution_count": null,
   "metadata": {},
   "outputs": [],
   "source": []
  }
 ],
 "metadata": {
  "kernelspec": {
   "display_name": "ev3",
   "language": "python",
   "name": "python3"
  },
  "language_info": {
   "codemirror_mode": {
    "name": "ipython",
    "version": 3
   },
   "file_extension": ".py",
   "mimetype": "text/x-python",
   "name": "python",
   "nbconvert_exporter": "python",
   "pygments_lexer": "ipython3",
   "version": "3.11.5"
  }
 },
 "nbformat": 4,
 "nbformat_minor": 2
}
